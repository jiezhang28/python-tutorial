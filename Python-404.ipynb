{
 "cells": [
  {
   "cell_type": "markdown",
   "metadata": {},
   "source": [
    "# Python 404"
   ]
  },
  {
   "cell_type": "markdown",
   "metadata": {},
   "source": [
    "## Object Oriented Programming (OOP)\n",
    "\n",
    "You will often hear \"everything in Python is an object,\" \"classes are objects,\" or the term _OOP_. What does this all mean?\n",
    "\n",
    "### Objects \n",
    "\n",
    "_[An] object is simply a collection of data (variables) and methods (functions) that act on those data. And, class is a blueprint for the object._ [Programiz](https://www.programiz.com/python-programming/class)\n",
    "\n",
    "Recall in Python 101 we learned variables store data. In Python 303 we learned a Python function is a block of organized, reusable code that is used to perform a single, related action. Python classes are created in the same way as calling a function. A Python class is a data structure containing variables (called attributes) and functions (called methods) within each instance of an object. A class allows the programmer to create custom objects.\n",
    "\n",
    "### Class Structure\n",
    "\n",
    "Recall Python functions follows a particular structure:\n",
    "```\n",
    "def function_name(input1, input2):\n",
    "    '''\n",
    "    Docstring containing information outlining what the function does, and what it returns.\n",
    "    '''\n",
    "    return input1 + input2\n",
    "    ```\n",
    "\n",
    "\n",
    "\n",
    "Python classes also have a particular structure: \n",
    "```\n",
    "class class_name:\n",
    "    def __init__(self, word1, word2):\n",
    "        self.str1 = word1\n",
    "        self.str2 = word2\n",
    "\n",
    "    def combine_strings(self):\n",
    "        return self.str1 + self.str2\n",
    "```\n",
    "\n",
    "In the example above, the class definition begins by calling `class`, followed by the name of the class, `class_name`. \n",
    "\n",
    "Next, we define the `__init__` method (note the leading and trailing double underscore, called 'dunders'). The init method initializes the attributs of an object. If the programmer has a set of desired attributes that every instance of the class must have, the constructor method is the internal function where these values are defined. A method containing dunders is called a _magic method_. Magic methods are executed internally when a class is instatiated; the user does not have to call them directly. \n",
    "\n",
    "Whenever a method is defined, the first term is `self`. `self` is a reference to the object itself. Any term can be used in place of `self`, however this is not recommended as `self` is the conventional term in Python. `self` is also used to internally call an attribute, as shown above using `self.str1`.\n",
    "\n",
    "### Using a Class\n",
    "\n",
    "To use a class, you must first instatiate it. To an instantiate a class simply means to call it. \n",
    "\n",
    "```\n",
    "class1 = class_name('hello', 'world')\n",
    "```\n",
    "\n",
    "In our generic example above, if we executed the following code, a TypeError would be raised:  \n",
    "\n",
    "```\n",
    "class1 = class_name()\n",
    "```\n",
    "\n",
    "The TypeError message would notify the user the init() method is missing 2 required positional arguments: 'word1' and 'word2'. However, it is not unusual to come across classes that do not require arguments when instantiated. \n",
    "\n",
    "To use the method `combine_strings`, we simply call it: \n",
    "\n",
    "```\n",
    "class1.combine_strings()\n",
    "```\n",
    "\n",
    "This will return the string 'hello world'.\n",
    "\n",
    "\n",
    "### Practice Example\n",
    "\n",
    "Let's say we wanted to store information on each D&A Consultant. We would like to use this information to determine how long each Consultant has been with Slalom and their current client, relative to today's date. To achieve this, we need to capture the following information for each Consultant: \n",
    "\n",
    "- Their name\n",
    "- Their start date at Slalom\n",
    "- Their current client\n",
    "- Their start date at that client\n",
    "\n",
    "To repeat this process for all SV D&A Consultants would be tedious. Instead, we can use a class and leverage reusable code. \n",
    "\n",
    "Our class would contain the following attributes (variables, data):\n",
    "\n",
    "- Consultant Name\n",
    "- Consultant Start Date at Slalom\n",
    "- Consultant Client \n",
    "- Consultant Start Date at Their Current Client\n",
    "\n",
    "Our class would also contain the following method; an internal function:\n",
    "\n",
    "- Time Difference Between Today and Desired Date (Slalom start date or client start date)\n",
    "\n",
    "We will walk through this step by step. However, a class is defined in a single code block, not a series of copy/pasted code blocks. \n",
    "\n",
    "First, we need to **define the class and initialize the attributes**: "
   ]
  },
  {
   "cell_type": "code",
   "execution_count": 1,
   "metadata": {},
   "outputs": [],
   "source": [
    "class Consultant:\n",
    "    def __init__(self, first_name, last_name, slalom_start, client, client_start):\n",
    "        self.fname = first_name\n",
    "        self.lname = last_name\n",
    "        self.slalom_start = slalom_start\n",
    "        self.client = client\n",
    "        self.client_start = client_start"
   ]
  },
  {
   "cell_type": "markdown",
   "metadata": {},
   "source": [
    "For simplicity's sake, let's assume the dates are in date format, not strings.\n",
    "\n",
    "We can now **define the method** returning the duration of time at the current client or Slalom. Let's use conditional statements from Python 101 to determine which value the user would like to return. "
   ]
  },
  {
   "cell_type": "code",
   "execution_count": 2,
   "metadata": {},
   "outputs": [],
   "source": [
    "from datetime import datetime\n",
    "\n",
    "class Consultant:\n",
    "    def __init__(self, first_name, last_name, slalom_start, client, client_start):\n",
    "        self.fname = first_name\n",
    "        self.lname = last_name\n",
    "        self.slalom_start = slalom_start\n",
    "        self.client = client\n",
    "        self.client_start = client_start\n",
    "        \n",
    "    def calculate_time(self, place):\n",
    "        \"\"\"\n",
    "        The parameter 'place' is used to determine whether the user would like to\n",
    "        calculate the Consultant's time at Slalom, or at the current client. \n",
    "        \n",
    "        We will assume the parameter 'place' can only take one of two options: slalom, client.\n",
    "        \"\"\"\n",
    "        \n",
    "        if place not in ['slalom', 'client']:\n",
    "            # There are more advanced error handling methods we have not yet covered \n",
    "            print('place must be one of: slalom, client')\n",
    "        elif place == 'slalom':\n",
    "            return datetime.now().date() - self.slalom_start\n",
    "        else:\n",
    "            return datetime.now().date() - self.client_start"
   ]
  },
  {
   "cell_type": "markdown",
   "metadata": {},
   "source": [
    "We can now instantiate our class:"
   ]
  },
  {
   "cell_type": "code",
   "execution_count": 3,
   "metadata": {},
   "outputs": [],
   "source": [
    "consultant1 = Consultant('Jane', \n",
    "                         'Doe', \n",
    "                         datetime.strptime('2018-09-28', '%Y-%m-%d').date(), \n",
    "                         'FruitCo', \n",
    "                         datetime.strptime('2019-12-09', '%Y-%m-%d').date())"
   ]
  },
  {
   "cell_type": "markdown",
   "metadata": {},
   "source": [
    "We can calculate how long this consultant has been at Slalom and their client: "
   ]
  },
  {
   "cell_type": "code",
   "execution_count": 5,
   "metadata": {},
   "outputs": [
    {
     "data": {
      "text/plain": [
       "datetime.timedelta(days=523)"
      ]
     },
     "execution_count": 5,
     "metadata": {},
     "output_type": "execute_result"
    }
   ],
   "source": [
    "consultant1.calculate_time('slalom')"
   ]
  },
  {
   "cell_type": "code",
   "execution_count": 6,
   "metadata": {},
   "outputs": [
    {
     "data": {
      "text/plain": [
       "datetime.timedelta(days=86)"
      ]
     },
     "execution_count": 6,
     "metadata": {},
     "output_type": "execute_result"
    }
   ],
   "source": [
    "consultant1.calculate_time('client')"
   ]
  },
  {
   "cell_type": "markdown",
   "metadata": {},
   "source": [
    "We can now calculate the same information for a different consultant: "
   ]
  },
  {
   "cell_type": "code",
   "execution_count": 7,
   "metadata": {},
   "outputs": [],
   "source": [
    "consultant2 = Consultant('John', \n",
    "                         'Henry', \n",
    "                         datetime.strptime('2019-09-26', '%Y-%m-%d').date(), \n",
    "                         'FruitCo', \n",
    "                         datetime.strptime('2019-10-14', '%Y-%m-%d').date())"
   ]
  },
  {
   "cell_type": "code",
   "execution_count": 8,
   "metadata": {},
   "outputs": [
    {
     "data": {
      "text/plain": [
       "datetime.timedelta(days=160)"
      ]
     },
     "execution_count": 8,
     "metadata": {},
     "output_type": "execute_result"
    }
   ],
   "source": [
    "consultant2.calculate_time('slalom')"
   ]
  },
  {
   "cell_type": "code",
   "execution_count": 9,
   "metadata": {},
   "outputs": [
    {
     "data": {
      "text/plain": [
       "datetime.timedelta(days=142)"
      ]
     },
     "execution_count": 9,
     "metadata": {},
     "output_type": "execute_result"
    }
   ],
   "source": [
    "consultant2.calculate_time('client')"
   ]
  },
  {
   "cell_type": "markdown",
   "metadata": {},
   "source": [
    "### Methods Cont'd\n",
    "\n",
    "Returning to the concept of magic methods, we can include magic methods that are the string representations of the objects: "
   ]
  },
  {
   "cell_type": "code",
   "execution_count": 10,
   "metadata": {},
   "outputs": [],
   "source": [
    "from datetime import datetime\n",
    "\n",
    "class Consultant:\n",
    "    def __init__(self, first_name, last_name, slalom_start, client, client_start):\n",
    "        self.first = first_name\n",
    "        self.last = last_name\n",
    "        self.slalom_start = slalom_start\n",
    "        self.client = client\n",
    "        self.client_start = client_start\n",
    "        \n",
    "    def __str__(self):\n",
    "        return 'You are looking at {} {}\\'s information'.format(self.first, self.last)       \n",
    "    \n",
    "    def __repr__(self):\n",
    "        return \"Consultant object\"\n",
    "        \n",
    "    def calculate_time(self, place):\n",
    "        \"\"\"\n",
    "        The parameter 'place' is used to determine whether the user would like to\n",
    "        calculate the Consultant's time at Slalom, or at the current client. \n",
    "        \n",
    "        We will assume the parameter 'place' can only take one of two options: slalom, client.\n",
    "        \"\"\"\n",
    "        \n",
    "        if place not in ['slalom', 'client']:\n",
    "            # There are more advanced error handling methods we have not yet covered \n",
    "            print('place must be one of: slalom, client')\n",
    "        elif place == 'slalom':\n",
    "            return datetime.now().date() - self.slalom_start\n",
    "        else:\n",
    "            return datetime.now().date() - self.client_start"
   ]
  },
  {
   "cell_type": "code",
   "execution_count": 11,
   "metadata": {},
   "outputs": [],
   "source": [
    "consultant2 = Consultant('John', \n",
    "                         'Henry', \n",
    "                         datetime.strptime('2019-09-26', '%Y-%m-%d').date(), \n",
    "                         'FruitCo', \n",
    "                         datetime.strptime('2019-10-14', '%Y-%m-%d').date())"
   ]
  },
  {
   "cell_type": "code",
   "execution_count": 12,
   "metadata": {},
   "outputs": [
    {
     "data": {
      "text/plain": [
       "Consultant object"
      ]
     },
     "execution_count": 12,
     "metadata": {},
     "output_type": "execute_result"
    }
   ],
   "source": [
    "consultant2"
   ]
  },
  {
   "cell_type": "code",
   "execution_count": 13,
   "metadata": {},
   "outputs": [
    {
     "name": "stdout",
     "output_type": "stream",
     "text": [
      "You are looking at John Henry's information\n"
     ]
    }
   ],
   "source": [
    "print(consultant2)"
   ]
  },
  {
   "cell_type": "code",
   "execution_count": 21,
   "metadata": {
    "jupyter": {
     "source_hidden": true
    }
   },
   "outputs": [],
   "source": [
    "import matplotlib.pyplot as plt\n",
    "import datetime\n",
    "import math\n",
    "import random\n",
    "%matplotlib inline"
   ]
  },
  {
   "cell_type": "markdown",
   "metadata": {},
   "source": [
    "# Getters and Setters\n",
    "\n",
    "Python has a unique way of controlling access to an object's attributes, collequially called 'getters' and 'setters'. Getters and setters ensure that users of your class may only interact with it in certain ways.\n",
    "\n",
    "## Public, Protected and Private\n",
    "\n",
    "Classes in python may have three types of attributes and methods: public, private, and protected\n",
    "\n",
    "### Public\n",
    "Public attributes and methods are initalized and then maybe viewed and modified by anyone with access to a class.\n",
    "*Example:*\n",
    "```\n",
    "class A:\n",
    "    def __init__(self):\n",
    "       self.an_attribute = None\n",
    "       \n",
    "a = A()\n",
    "a.an_attribute = 42\n",
    "print(a.an_attribute)\n",
    "> 42\n",
    "```\n",
    "### Private\n",
    "Private attributes are attributes that may only be accessed via the `self` attribute from the class. By convention, these attributres have a `__` at the beginning of their names.\n",
    "\n",
    "*Example:*\n",
    "```\n",
    "class A:\n",
    "    def __init__(self):\n",
    "       self.__an_attribute = None\n",
    "      \n",
    "    def get_anattribute(self):\n",
    "        return self.__an_attribute\n",
    "       \n",
    "a = A()\n",
    "a.an_attribute = 42\n",
    "> Error \n",
    "a.get_an_attribute()\n",
    "> 42\n",
    "```\n",
    "It can be tiresome to have to use `get_...()` and `set_...()` helper functions everwhere.\n",
    "\n",
    "### Protected\n",
    "Protected attributes are attributes that are accessible by the calling class and any _subclasses_. Since we don't know what subclasses are yet, let's assume that protected attributes are basically the same as private. Protected attributes are denoted with a single `_` infront of their name.\n",
    "\n",
    "*Example:*\n",
    "```\n",
    "class A:\n",
    "    def __init__(self):\n",
    "       self._an_attribute = None\n",
    "      \n",
    "    def get_anattribute(self):\n",
    "        return self._an_attribute\n",
    "       \n",
    "a = A()\n",
    "a.an_attribute = 42\n",
    "> Error \n",
    "a.get_an_attribute()\n",
    "> 42\n",
    "```\n",
    "\n",
    "### Getters\n",
    "```\n",
    "class ice_cream_maker:\n",
    "\n",
    "...\n",
    "    @property\n",
    "    def manager(self):\n",
    "        return self._manager\n",
    "        \n",
    "icm = ice_cream_maker('Roger', 'Doger')\n",
    "\n",
    "icm.manage\n",
    "> Roger\n",
    "```\n",
    "\n",
    "This defines a getter, which gives users of your class acces to a protected member, but let's your users interact with the attribute as though it were a normal public variable.\n",
    "\n",
    "\n",
    "### Setters\n",
    " Now the `_manager` attribute may only be set if it implements a setter via the \n",
    " \n",
    " *Example:*\n",
    "```\n",
    "class ice_cream_maker:\n",
    "\n",
    "...\n",
    "    @manager.setter\n",
    "    def manager(self, value):\n",
    "        self._manager = value\n",
    "        \n",
    "icm = ice_cream_maker('Roger', 'Doger')\n",
    "\n",
    "icm.manage = Robert\n",
    "> Robert\n",
    "``` \n",
    "Note that the `manager()` setter method allows you to insert validation code, you may sure that this code is called in the initializer "
   ]
  },
  {
   "cell_type": "code",
   "execution_count": 22,
   "metadata": {},
   "outputs": [],
   "source": [
    "class ice_cream_maker():\n",
    "    def __init__(self, manager, name):\n",
    "        self._manager = None\n",
    "        self._name  = None\n",
    "        self._performance = []\n",
    "        self._used = []\n",
    "        \n",
    "        # setup the getters and setters through the \n",
    "        self.manager = manager\n",
    "        self.name = name\n",
    "        \n",
    "    @property\n",
    "    def manager(self):\n",
    "        return self._manager\n",
    "    \n",
    "    @property\n",
    "    def name(self):\n",
    "        return self._name\n",
    "    \n",
    "    @property\n",
    "    def performance(self):\n",
    "        return self._performance\n",
    "    \n",
    "    @property\n",
    "    def used(self):\n",
    "        return self._used\n",
    "    \n",
    "    @manager.setter\n",
    "    def manager(self, value):\n",
    "        if isinstance(value, str) and len(value) > 0:\n",
    "            self._manager = value\n",
    "        else:\n",
    "            raise ValueError(\"Manager property must be of type string and longer than length zero\")\n",
    "            \n",
    "    @name.setter\n",
    "    def name(self, value):\n",
    "        if isinstance(value, str) and len(value) > 0:\n",
    "            self._name = value\n",
    "        else:\n",
    "            raise ValueError(\"Name property must be of type string and longer than length zero\")\n",
    "    \n",
    "    def __str__(self):\n",
    "        return 'You are looking at {}\\'s {} information'.format(self.manager, self.name)   \n",
    "    \n",
    "    def adding_values(self, perf, proj):\n",
    "        self.performance.append(int(perf))\n",
    "        self.used.append(int(proj))\n",
    "    \n",
    "    def failure(self):\n",
    "        if 50 in self.performance:\n",
    "            print('This ice cream maker is faulty, please replace')\n",
    "    \n",
    "    def plot(self):\n",
    "        fig, ax = plt.subplots(1,2, figsize=(10,5))\n",
    "        ax[0].plot(range(len(self.performance)), self.performance)\n",
    "        ax[0].set_title('Performance'.format(self.name))\n",
    "        ax[1].plot(range(len(self.performance)), self.used)\n",
    "        ax[1].set_title('Usage'.format(self.name))\n",
    "        plt.show();"
   ]
  },
  {
   "cell_type": "code",
   "execution_count": 28,
   "metadata": {},
   "outputs": [],
   "source": [
    "managers = {}\n",
    "with open('ice_cream.csv','r') as f:\n",
    "    for line in f.readlines()[1:]:\n",
    "        manager, name, performance, usage = line.split(',')\n",
    "        if manager not in managers.keys():\n",
    "            managers[manager] = ice_cream_maker(manager, name)\n",
    "        managers[manager].adding_values(performance, usage)\n"
   ]
  },
  {
   "cell_type": "code",
   "execution_count": 29,
   "metadata": {},
   "outputs": [
    {
     "name": "stdout",
     "output_type": "stream",
     "text": [
      "You are looking at Bobby's BestIceCream.inc information\n"
     ]
    },
    {
     "data": {
      "image/png": "[encoded data removed]",
      "text/plain": [
       "<Figure size 720x360 with 2 Axes>"
      ]
     },
     "metadata": {
      "needs_background": "light"
     },
     "output_type": "display_data"
    },
    {
     "name": "stdout",
     "output_type": "stream",
     "text": [
      "You are looking at Tracy's OnlyCholocateIceCream information\n"
     ]
    },
    {
     "data": {
      "image/png": "[encoded data removed]",
      "text/plain": [
       "<Figure size 720x360 with 2 Axes>"
      ]
     },
     "metadata": {
      "needs_background": "light"
     },
     "output_type": "display_data"
    },
    {
     "name": "stdout",
     "output_type": "stream",
     "text": [
      "You are looking at Glooby's MartianOnly information\n"
     ]
    },
    {
     "data": {
      "image/png": "[encoded data removed]",
      "text/plain": [
       "<Figure size 720x360 with 2 Axes>"
      ]
     },
     "metadata": {
      "needs_background": "light"
     },
     "output_type": "display_data"
    },
    {
     "name": "stdout",
     "output_type": "stream",
     "text": [
      "You are looking at Floppy's FlipCards information\n"
     ]
    },
    {
     "data": {
      "image/png": "[encoded data removed]",
      "text/plain": [
       "<Figure size 720x360 with 2 Axes>"
      ]
     },
     "metadata": {
      "needs_background": "light"
     },
     "output_type": "display_data"
    }
   ],
   "source": [
    "for manager in managers:\n",
    "    obj = managers[manager]\n",
    "    print(obj)\n",
    "    obj.plot()"
   ]
  },
  {
   "cell_type": "code",
   "execution_count": 30,
   "metadata": {},
   "outputs": [
    {
     "data": {
      "text/plain": [
       "{'Bobby': <__main__.ice_cream_maker at 0x10d0d2210>,\n",
       " 'Tracy': <__main__.ice_cream_maker at 0x10d0d2750>,\n",
       " 'Glooby': <__main__.ice_cream_maker at 0x10cc4e110>,\n",
       " 'Floppy': <__main__.ice_cream_maker at 0x10d0d2d90>}"
      ]
     },
     "execution_count": 30,
     "metadata": {},
     "output_type": "execute_result"
    }
   ],
   "source": [
    "managers"
   ]
  },
  {
   "cell_type": "code",
   "execution_count": 31,
   "metadata": {},
   "outputs": [
    {
     "ename": "AttributeError",
     "evalue": "can't set attribute",
     "output_type": "error",
     "traceback": [
      "\u001b[0;31m---------------------------------------------------------------------------\u001b[0m",
      "\u001b[0;31mAttributeError\u001b[0m                            Traceback (most recent call last)",
      "\u001b[0;32m<ipython-input-31-d13773158e87>\u001b[0m in \u001b[0;36m<module>\u001b[0;34m\u001b[0m\n\u001b[0;32m----> 1\u001b[0;31m \u001b[0mmanagers\u001b[0m\u001b[0;34m[\u001b[0m\u001b[0;34m'Bobby'\u001b[0m\u001b[0;34m]\u001b[0m\u001b[0;34m.\u001b[0m\u001b[0mperformance\u001b[0m \u001b[0;34m=\u001b[0m \u001b[0;34m[\u001b[0m\u001b[0;36m1\u001b[0m\u001b[0;34m,\u001b[0m\u001b[0;36m2\u001b[0m\u001b[0;34m,\u001b[0m\u001b[0;36m3\u001b[0m\u001b[0;34m]\u001b[0m\u001b[0;34m\u001b[0m\u001b[0;34m\u001b[0m\u001b[0m\n\u001b[0m",
      "\u001b[0;31mAttributeError\u001b[0m: can't set attribute"
     ]
    }
   ],
   "source": [
    "managers['Bobby'].performance = [1,2,3]"
   ]
  },
  {
   "cell_type": "code",
   "execution_count": 32,
   "metadata": {},
   "outputs": [
    {
     "ename": "AttributeError",
     "evalue": "can't set attribute",
     "output_type": "error",
     "traceback": [
      "\u001b[0;31m---------------------------------------------------------------------------\u001b[0m",
      "\u001b[0;31mAttributeError\u001b[0m                            Traceback (most recent call last)",
      "\u001b[0;32m<ipython-input-32-434deedcfe70>\u001b[0m in \u001b[0;36m<module>\u001b[0;34m\u001b[0m\n\u001b[0;32m----> 1\u001b[0;31m \u001b[0mmanagers\u001b[0m\u001b[0;34m[\u001b[0m\u001b[0;34m'Tracy'\u001b[0m\u001b[0;34m]\u001b[0m\u001b[0;34m.\u001b[0m\u001b[0mused\u001b[0m \u001b[0;34m=\u001b[0m \u001b[0;34m[\u001b[0m\u001b[0;36m1\u001b[0m\u001b[0;34m,\u001b[0m\u001b[0;36m2\u001b[0m\u001b[0;34m,\u001b[0m\u001b[0;36m3\u001b[0m\u001b[0;34m]\u001b[0m\u001b[0;34m\u001b[0m\u001b[0;34m\u001b[0m\u001b[0m\n\u001b[0m",
      "\u001b[0;31mAttributeError\u001b[0m: can't set attribute"
     ]
    }
   ],
   "source": [
    "managers['Tracy'].used = [1,2,3]"
   ]
  },
  {
   "cell_type": "code",
   "execution_count": 33,
   "metadata": {},
   "outputs": [
    {
     "ename": "ValueError",
     "evalue": "Manager property must be of type string and longer than length zero",
     "output_type": "error",
     "traceback": [
      "\u001b[0;31m---------------------------------------------------------------------------\u001b[0m",
      "\u001b[0;31mValueError\u001b[0m                                Traceback (most recent call last)",
      "\u001b[0;32m<ipython-input-33-d0a7e738a74b>\u001b[0m in \u001b[0;36m<module>\u001b[0;34m\u001b[0m\n\u001b[0;32m----> 1\u001b[0;31m \u001b[0mice_cream_maker\u001b[0m\u001b[0;34m(\u001b[0m\u001b[0;36m43\u001b[0m\u001b[0;34m,\u001b[0m \u001b[0;34m''\u001b[0m\u001b[0;34m)\u001b[0m\u001b[0;34m\u001b[0m\u001b[0;34m\u001b[0m\u001b[0m\n\u001b[0m",
      "\u001b[0;32m<ipython-input-22-60516ce62a25>\u001b[0m in \u001b[0;36m__init__\u001b[0;34m(self, manager, name)\u001b[0m\n\u001b[1;32m      6\u001b[0m         \u001b[0mself\u001b[0m\u001b[0;34m.\u001b[0m\u001b[0m_used\u001b[0m \u001b[0;34m=\u001b[0m \u001b[0;34m[\u001b[0m\u001b[0;34m]\u001b[0m\u001b[0;34m\u001b[0m\u001b[0;34m\u001b[0m\u001b[0m\n\u001b[1;32m      7\u001b[0m \u001b[0;34m\u001b[0m\u001b[0m\n\u001b[0;32m----> 8\u001b[0;31m         \u001b[0mself\u001b[0m\u001b[0;34m.\u001b[0m\u001b[0mmanager\u001b[0m \u001b[0;34m=\u001b[0m \u001b[0mmanager\u001b[0m\u001b[0;34m\u001b[0m\u001b[0;34m\u001b[0m\u001b[0m\n\u001b[0m\u001b[1;32m      9\u001b[0m         \u001b[0mself\u001b[0m\u001b[0;34m.\u001b[0m\u001b[0mname\u001b[0m \u001b[0;34m=\u001b[0m \u001b[0mname\u001b[0m\u001b[0;34m\u001b[0m\u001b[0;34m\u001b[0m\u001b[0m\n\u001b[1;32m     10\u001b[0m \u001b[0;34m\u001b[0m\u001b[0m\n",
      "\u001b[0;32m<ipython-input-22-60516ce62a25>\u001b[0m in \u001b[0;36mmanager\u001b[0;34m(self, value)\u001b[0m\n\u001b[1;32m     30\u001b[0m             \u001b[0mself\u001b[0m\u001b[0;34m.\u001b[0m\u001b[0m_manager\u001b[0m \u001b[0;34m=\u001b[0m \u001b[0mvalue\u001b[0m\u001b[0;34m\u001b[0m\u001b[0;34m\u001b[0m\u001b[0m\n\u001b[1;32m     31\u001b[0m         \u001b[0;32melse\u001b[0m\u001b[0;34m:\u001b[0m\u001b[0;34m\u001b[0m\u001b[0;34m\u001b[0m\u001b[0m\n\u001b[0;32m---> 32\u001b[0;31m             \u001b[0;32mraise\u001b[0m \u001b[0mValueError\u001b[0m\u001b[0;34m(\u001b[0m\u001b[0;34m\"Manager property must be of type string and longer than length zero\"\u001b[0m\u001b[0;34m)\u001b[0m\u001b[0;34m\u001b[0m\u001b[0;34m\u001b[0m\u001b[0m\n\u001b[0m\u001b[1;32m     33\u001b[0m \u001b[0;34m\u001b[0m\u001b[0m\n\u001b[1;32m     34\u001b[0m     \u001b[0;34m@\u001b[0m\u001b[0mname\u001b[0m\u001b[0;34m.\u001b[0m\u001b[0msetter\u001b[0m\u001b[0;34m\u001b[0m\u001b[0;34m\u001b[0m\u001b[0m\n",
      "\u001b[0;31mValueError\u001b[0m: Manager property must be of type string and longer than length zero"
     ]
    }
   ],
   "source": [
    "ice_cream_maker(43, '')"
   ]
  },
  {
   "cell_type": "code",
   "execution_count": 34,
   "metadata": {},
   "outputs": [
    {
     "ename": "ValueError",
     "evalue": "Name property must be of type string and longer than length zero",
     "output_type": "error",
     "traceback": [
      "\u001b[0;31m---------------------------------------------------------------------------\u001b[0m",
      "\u001b[0;31mValueError\u001b[0m                                Traceback (most recent call last)",
      "\u001b[0;32m<ipython-input-34-acad18f6e7ef>\u001b[0m in \u001b[0;36m<module>\u001b[0;34m\u001b[0m\n\u001b[0;32m----> 1\u001b[0;31m \u001b[0mice_cream_maker\u001b[0m\u001b[0;34m(\u001b[0m\u001b[0;34m'a string'\u001b[0m\u001b[0;34m,\u001b[0m \u001b[0;34m''\u001b[0m\u001b[0;34m)\u001b[0m\u001b[0;34m\u001b[0m\u001b[0;34m\u001b[0m\u001b[0m\n\u001b[0m",
      "\u001b[0;32m<ipython-input-22-60516ce62a25>\u001b[0m in \u001b[0;36m__init__\u001b[0;34m(self, manager, name)\u001b[0m\n\u001b[1;32m      7\u001b[0m \u001b[0;34m\u001b[0m\u001b[0m\n\u001b[1;32m      8\u001b[0m         \u001b[0mself\u001b[0m\u001b[0;34m.\u001b[0m\u001b[0mmanager\u001b[0m \u001b[0;34m=\u001b[0m \u001b[0mmanager\u001b[0m\u001b[0;34m\u001b[0m\u001b[0;34m\u001b[0m\u001b[0m\n\u001b[0;32m----> 9\u001b[0;31m         \u001b[0mself\u001b[0m\u001b[0;34m.\u001b[0m\u001b[0mname\u001b[0m \u001b[0;34m=\u001b[0m \u001b[0mname\u001b[0m\u001b[0;34m\u001b[0m\u001b[0;34m\u001b[0m\u001b[0m\n\u001b[0m\u001b[1;32m     10\u001b[0m \u001b[0;34m\u001b[0m\u001b[0m\n\u001b[1;32m     11\u001b[0m     \u001b[0;34m@\u001b[0m\u001b[0mproperty\u001b[0m\u001b[0;34m\u001b[0m\u001b[0;34m\u001b[0m\u001b[0m\n",
      "\u001b[0;32m<ipython-input-22-60516ce62a25>\u001b[0m in \u001b[0;36mname\u001b[0;34m(self, value)\u001b[0m\n\u001b[1;32m     37\u001b[0m             \u001b[0mself\u001b[0m\u001b[0;34m.\u001b[0m\u001b[0m_name\u001b[0m \u001b[0;34m=\u001b[0m \u001b[0mvalue\u001b[0m\u001b[0;34m\u001b[0m\u001b[0;34m\u001b[0m\u001b[0m\n\u001b[1;32m     38\u001b[0m         \u001b[0;32melse\u001b[0m\u001b[0;34m:\u001b[0m\u001b[0;34m\u001b[0m\u001b[0;34m\u001b[0m\u001b[0m\n\u001b[0;32m---> 39\u001b[0;31m             \u001b[0;32mraise\u001b[0m \u001b[0mValueError\u001b[0m\u001b[0;34m(\u001b[0m\u001b[0;34m\"Name property must be of type string and longer than length zero\"\u001b[0m\u001b[0;34m)\u001b[0m\u001b[0;34m\u001b[0m\u001b[0;34m\u001b[0m\u001b[0m\n\u001b[0m\u001b[1;32m     40\u001b[0m \u001b[0;34m\u001b[0m\u001b[0m\n\u001b[1;32m     41\u001b[0m     \u001b[0;32mdef\u001b[0m \u001b[0m__str__\u001b[0m\u001b[0;34m(\u001b[0m\u001b[0mself\u001b[0m\u001b[0;34m)\u001b[0m\u001b[0;34m:\u001b[0m\u001b[0;34m\u001b[0m\u001b[0;34m\u001b[0m\u001b[0m\n",
      "\u001b[0;31mValueError\u001b[0m: Name property must be of type string and longer than length zero"
     ]
    }
   ],
   "source": [
    "ice_cream_maker('a string', '')"
   ]
  },
  {
   "cell_type": "markdown",
   "metadata": {},
   "source": [
    "Now, your `ice_cream_manager` class is more robust, it cannot be created with invalid entries, and it cannot have data accidently destroyed by careless use of public attributes."
   ]
  },
  {
   "cell_type": "markdown",
   "metadata": {},
   "source": [
    "# Exercises"
   ]
  },
  {
   "cell_type": "markdown",
   "metadata": {},
   "source": [
    "#### Exercise 1: Construct two variables\n",
    "\n",
    "Task: Create two lists, home and work, where A1 = [x1,y1] and A2 = [x2,y2]."
   ]
  },
  {
   "cell_type": "code",
   "execution_count": null,
   "metadata": {},
   "outputs": [],
   "source": [
    "# your code goes here"
   ]
  },
  {
   "cell_type": "markdown",
   "metadata": {},
   "source": [
    "#### Exercise 2: Find distance between home and work\n",
    "\n",
    "Notice how A1 and A2 can be thought as points on a graph (x,y) coordinates\n",
    "\n",
    "Task: Find the Euclidean distance squared between home and work.\n",
    "\n",
    "To compute square root, use math.sqrt() method, which takes a non-negative float.\n",
    "\n",
    "Hint: Euclidean distance is defined as √((x1-x2)^2 + (y1-y2)^2)\n",
    "\n",
    "Hint: To compute the square, use x**2"
   ]
  },
  {
   "cell_type": "code",
   "execution_count": null,
   "metadata": {},
   "outputs": [],
   "source": [
    "import math\n",
    "import numpy as np\n",
    "\n",
    "# your code goes here"
   ]
  },
  {
   "cell_type": "markdown",
   "metadata": {},
   "source": [
    "#### Exercise 3: How far is home and work?\n",
    "\n",
    "Not everyone bikes, so some of us need to walk. Now, can I walk from home to work?\n",
    "\n",
    "Task: Create logic to know if you can work from home\n",
    "\n",
    "If the distance is greater than 5, then walking isn't feasible.\n",
    "\n",
    "If not, we can get our cardio in the morning. Let the world know of the distance and your action! (Print)"
   ]
  },
  {
   "cell_type": "code",
   "execution_count": null,
   "metadata": {},
   "outputs": [],
   "source": [
    "# your code goes here"
   ]
  },
  {
   "cell_type": "markdown",
   "metadata": {},
   "source": [
    "#### Exercise 4: How far do my coworkers live from work?\n",
    "\n",
    "As part of our consulting journey, knowing our team mates makes an effective team. \n",
    "\n",
    "Sam, Ari and Alex live in different parts of town. Can they walk to work?\n",
    "\n",
    "Unfortunately, you are not in the mood to do math, so you create a program to compute it for you.\n",
    "\n",
    "Task: Create a function that takes two points and computes the distance between those two points. Name this function euclid"
   ]
  },
  {
   "cell_type": "code",
   "execution_count": null,
   "metadata": {},
   "outputs": [],
   "source": [
    "# your code goes here"
   ]
  },
  {
   "cell_type": "markdown",
   "metadata": {},
   "source": [
    "#### Exercise 5: Can my coworkers walk to work?\n",
    "\n",
    "Now, can they work from home?\n",
    "\n",
    "Task: Create a function that takes a distance and outputs whether or not my coworker can work from home.\n",
    "\n",
    "This function takes two inputs: the distance and the person. Name this function action.\n",
    "\n",
    "To ensure sanity amongst our peers, if the distance is 0, we need to let them know about the concept of home."
   ]
  },
  {
   "cell_type": "code",
   "execution_count": null,
   "metadata": {},
   "outputs": [],
   "source": [
    "# your code goes here"
   ]
  },
  {
   "cell_type": "markdown",
   "metadata": {},
   "source": [
    "#### Exercise 6: Which coworker lives near me?\n",
    "\n",
    "You come back to the office one day, and you realize that there are now 6 additional coworkers! \n",
    "\n",
    "Where have you been?\n",
    "\n",
    "You started to become curious to see who lives near you.\n",
    "\n",
    "Task: Create an object that will store the home location of each new person.\n",
    "\n",
    "Hint: Create a list of people\n",
    "\n",
    "Hint: Iterate over, and use int(math.random() * 21) to generate a number between 0 and 20\n",
    "\n",
    "Hint: Remember to add Sam, Ari, Alex and yourself!"
   ]
  },
  {
   "cell_type": "code",
   "execution_count": null,
   "metadata": {},
   "outputs": [],
   "source": [
    "# your code goes here"
   ]
  },
  {
   "cell_type": "markdown",
   "metadata": {},
   "source": [
    "#### Exercise 7: Find which coworker lives the closest to you!\n",
    "\n",
    "Task: Find the coworker who lives the closest to you."
   ]
  },
  {
   "cell_type": "code",
   "execution_count": null,
   "metadata": {},
   "outputs": [],
   "source": [
    "# your code goes here"
   ]
  },
  {
   "cell_type": "markdown",
   "metadata": {},
   "source": [
    "#### Exercise 8: Moving projects and new co-workers\n",
    "\n",
    "You have been assigned to a new project, and you have different coworkers. \n",
    "\n",
    "You want to do the same exercise as before, but you are exhausted of typing code all thee time.\n",
    "\n",
    "Instead, you create a class, taking the project and and a list of people coordinates (each element needs to be ['name', loc])\n",
    "\n",
    "When you print the class, it needs to print the name of the project and the number of people in it\n",
    "\n",
    "Part 1: Create the class\n",
    "\n",
    "Part 2: Create a method that finds the closest coworker"
   ]
  },
  {
   "cell_type": "code",
   "execution_count": null,
   "metadata": {},
   "outputs": [],
   "source": [
    "# your code goes here"
   ]
  }
 ],
 "metadata": {
  "kernelspec": {
   "display_name": "Python 3",
   "language": "python",
   "name": "python3"
  },
  "language_info": {
   "codemirror_mode": {
    "name": "ipython",
    "version": 3
   },
   "file_extension": ".py",
   "mimetype": "text/x-python",
   "name": "python",
   "nbconvert_exporter": "python",
   "pygments_lexer": "ipython3",
   "version": "3.7.4"
  }
 },
 "nbformat": 4,
 "nbformat_minor": 4
}
